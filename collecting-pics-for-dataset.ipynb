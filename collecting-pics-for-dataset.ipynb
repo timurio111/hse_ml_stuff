{
 "cells": [
  {
   "cell_type": "code",
   "execution_count": 10,
   "id": "5d457339",
   "metadata": {
    "scrolled": false
   },
   "outputs": [
    {
     "name": "stdout",
     "output_type": "stream",
     "text": [
      "Requirement already satisfied: pyqt5 in c:\\proj\\tfodcourse\\wtf\\lib\\site-packages (5.15.9)\n",
      "Requirement already satisfied: lxml in c:\\proj\\tfodcourse\\wtf\\lib\\site-packages (4.9.2)\n",
      "Requirement already satisfied: PyQt5-sip<13,>=12.11 in c:\\proj\\tfodcourse\\wtf\\lib\\site-packages (from pyqt5) (12.12.1)\n",
      "Requirement already satisfied: PyQt5-Qt5>=5.15.2 in c:\\proj\\tfodcourse\\wtf\\lib\\site-packages (from pyqt5) (5.15.2)\n"
     ]
    }
   ],
   "source": [
    "!pip install --upgrade pyqt5 lxml"
   ]
  },
  {
   "cell_type": "code",
   "execution_count": 11,
   "id": "739ee879",
   "metadata": {},
   "outputs": [
    {
     "name": "stdout",
     "output_type": "stream",
     "text": [
      "Requirement already satisfied: opencv-python in c:\\proj\\tfodcourse\\wtf\\lib\\site-packages (4.7.0.72)\n",
      "Requirement already satisfied: numpy>=1.17.0 in c:\\proj\\tfodcourse\\wtf\\lib\\site-packages (from opencv-python) (1.24.3)\n"
     ]
    }
   ],
   "source": [
    "!pip install opencv-python"
   ]
  },
  {
   "cell_type": "code",
   "execution_count": 12,
   "id": "80d93cf0",
   "metadata": {},
   "outputs": [],
   "source": [
    "import cv2\n",
    "import time\n",
    "import uuid\n",
    "import os"
   ]
  },
  {
   "cell_type": "code",
   "execution_count": 13,
   "id": "a9a554e0",
   "metadata": {},
   "outputs": [],
   "source": [
    "PICS_AMOUNT = 15\n",
    "PICS_PATH = os.path.join('pics', 'collected_pics')"
   ]
  },
  {
   "cell_type": "code",
   "execution_count": 14,
   "id": "b3203ab5",
   "metadata": {},
   "outputs": [],
   "source": [
    "LABELS = ['bless', 'debuffed', 'right_fist', 'left_fist']"
   ]
  },
  {
   "cell_type": "code",
   "execution_count": 15,
   "id": "68975a4d",
   "metadata": {},
   "outputs": [],
   "source": [
    "if not os.path.exists(PICS_PATH):\n",
    "    if os.name == 'nt':\n",
    "        !mkdir {PICS_PATH}\n",
    "    elif os.name == 'posix':\n",
    "        !mkdir -p {PICS_PATH}"
   ]
  },
  {
   "cell_type": "code",
   "execution_count": 16,
   "id": "063ece41",
   "metadata": {},
   "outputs": [],
   "source": [
    "for label in LABELS:\n",
    "    CURRENT_PIC_PATH = os.path.join(PICS_PATH, label)\n",
    "    if not os.path.exists(CURRENT_PIC_PATH):\n",
    "        if os.name == 'nt':\n",
    "            !mkdir {CURRENT_PIC_PATH}\n",
    "        elif os.name == 'posix':\n",
    "            !mkdir -p {CURRENT_PIC_PATH}"
   ]
  },
  {
   "cell_type": "code",
   "execution_count": 19,
   "id": "aa4dfe72",
   "metadata": {},
   "outputs": [
    {
     "name": "stdout",
     "output_type": "stream",
     "text": [
      "takin picZ for bless\n",
      "ive just shot NIGGA numba 1\n",
      "ive just shot NIGGA numba 2\n",
      "ive just shot NIGGA numba 3\n",
      "ive just shot NIGGA numba 4\n",
      "ive just shot NIGGA numba 5\n",
      "ive just shot NIGGA numba 6\n",
      "ive just shot NIGGA numba 7\n",
      "ive just shot NIGGA numba 8\n",
      "ive just shot NIGGA numba 9\n",
      "ive just shot NIGGA numba 10\n",
      "ive just shot NIGGA numba 11\n",
      "ive just shot NIGGA numba 12\n",
      "ive just shot NIGGA numba 13\n",
      "ive just shot NIGGA numba 14\n",
      "ive just shot NIGGA numba 15\n",
      "takin picZ for debuffed\n",
      "ive just shot NIGGA numba 1\n",
      "ive just shot NIGGA numba 2\n",
      "ive just shot NIGGA numba 3\n",
      "ive just shot NIGGA numba 4\n",
      "ive just shot NIGGA numba 5\n",
      "ive just shot NIGGA numba 6\n",
      "ive just shot NIGGA numba 7\n",
      "ive just shot NIGGA numba 8\n",
      "ive just shot NIGGA numba 9\n",
      "ive just shot NIGGA numba 10\n",
      "ive just shot NIGGA numba 11\n",
      "ive just shot NIGGA numba 12\n",
      "ive just shot NIGGA numba 13\n",
      "ive just shot NIGGA numba 14\n",
      "ive just shot NIGGA numba 15\n",
      "takin picZ for right_fist\n",
      "ive just shot NIGGA numba 1\n",
      "ive just shot NIGGA numba 2\n",
      "ive just shot NIGGA numba 3\n",
      "ive just shot NIGGA numba 4\n",
      "ive just shot NIGGA numba 5\n",
      "ive just shot NIGGA numba 6\n",
      "ive just shot NIGGA numba 7\n",
      "ive just shot NIGGA numba 8\n",
      "ive just shot NIGGA numba 9\n",
      "ive just shot NIGGA numba 10\n",
      "ive just shot NIGGA numba 11\n",
      "ive just shot NIGGA numba 12\n",
      "ive just shot NIGGA numba 13\n",
      "ive just shot NIGGA numba 14\n",
      "ive just shot NIGGA numba 15\n",
      "takin picZ for left_fist\n",
      "ive just shot NIGGA numba 1\n",
      "ive just shot NIGGA numba 2\n",
      "ive just shot NIGGA numba 3\n",
      "ive just shot NIGGA numba 4\n",
      "ive just shot NIGGA numba 5\n",
      "ive just shot NIGGA numba 6\n",
      "ive just shot NIGGA numba 7\n",
      "ive just shot NIGGA numba 8\n",
      "ive just shot NIGGA numba 9\n",
      "ive just shot NIGGA numba 10\n",
      "ive just shot NIGGA numba 11\n",
      "ive just shot NIGGA numba 12\n",
      "ive just shot NIGGA numba 13\n",
      "ive just shot NIGGA numba 14\n",
      "ive just shot NIGGA numba 15\n"
     ]
    }
   ],
   "source": [
    "for label in LABELS:\n",
    "    cap = cv2.VideoCapture(0)\n",
    "    print(\"takin picZ for {}\".format(label))\n",
    "    time.sleep(7)\n",
    "    for num in range(PICS_AMOUNT):\n",
    "        print(\"ive just shot NIGGA numba {}\".format(num + 1))\n",
    "        ret, frame = cap.read()\n",
    "        pic_name = os.path.join(PICS_PATH, label,label+'.'+'{}.jpg'.format(str(uuid.uuid1())))\n",
    "        cv2.imwrite(pic_name, frame)\n",
    "        cv2.imshow('i_just_wanna_be_happy', frame)\n",
    "        time.sleep(1)\n",
    "         \n",
    "        if cv2.waitKey(1) & 0xFF == ord('q'):\n",
    "            break\n",
    "            \n",
    "cap.release()\n",
    "cv2.destroyAllWindows()"
   ]
  },
  {
   "cell_type": "code",
   "execution_count": 20,
   "id": "e4d30d93",
   "metadata": {},
   "outputs": [
    {
     "name": "stdout",
     "output_type": "stream",
     "text": [
      "Package            Version\n",
      "------------------ --------\n",
      "asttokens          2.2.1\n",
      "backcall           0.2.0\n",
      "colorama           0.4.6\n",
      "comm               0.1.3\n",
      "debugpy            1.6.7\n",
      "decorator          5.1.1\n",
      "executing          1.2.0\n",
      "importlib-metadata 6.6.0\n",
      "ipykernel          6.22.0\n",
      "ipython            8.13.1\n",
      "jedi               0.18.2\n",
      "jupyter_client     8.2.0\n",
      "jupyter_core       5.3.0\n",
      "lxml               4.9.2\n",
      "matplotlib-inline  0.1.6\n",
      "nest-asyncio       1.5.6\n",
      "numpy              1.24.3\n",
      "opencv-python      4.7.0.72\n",
      "packaging          23.1\n",
      "parso              0.8.3\n",
      "pickleshare        0.7.5\n",
      "pip                23.1.2\n",
      "platformdirs       3.5.0\n",
      "prompt-toolkit     3.0.38\n",
      "psutil             5.9.5\n",
      "pure-eval          0.2.2\n",
      "Pygments           2.15.1\n",
      "PyQt5              5.15.9\n",
      "PyQt5-Qt5          5.15.2\n",
      "PyQt5-sip          12.12.1\n",
      "python-dateutil    2.8.2\n",
      "pywin32            306\n",
      "pyzmq              25.0.2\n",
      "setuptools         58.1.0\n",
      "six                1.16.0\n",
      "stack-data         0.6.2\n",
      "tornado            6.3.1\n",
      "traitlets          5.9.0\n",
      "typing_extensions  4.5.0\n",
      "wcwidth            0.2.6\n",
      "zipp               3.15.0\n"
     ]
    }
   ],
   "source": [
    "!pip list"
   ]
  },
  {
   "cell_type": "code",
   "execution_count": 23,
   "id": "e65ed2e4",
   "metadata": {},
   "outputs": [],
   "source": [
    "LABLEIMG_PATH = os.path.join('labelimg')\n",
    "if not os.path.exists(LABLEIMG_PATH):\n",
    "    if os.name == 'nt':\n",
    "        !mkdir {LABLEIMG_PATH}\n",
    "    elif os.name == 'posix':\n",
    "        !mkdir -p {LABLEIMG_PATH}\n",
    "    !git clone https://github.com/tzutalin/labelImg {labelimg_path}\n",
    "\n",
    "if os.name == 'nt':\n",
    "    !cd {LABLEIMG_PATH} && pyrcc5 -o libs/resources.py resources.qrc\n",
    "if os.name == 'posix':\n",
    "    !cd {LABLEIMG_PATH} && make qt5py3"
   ]
  },
  {
   "cell_type": "code",
   "execution_count": 24,
   "id": "77de7175",
   "metadata": {},
   "source": [
    "!cd {LABLEIMG_PATH} && python labelImg.py"
   ]
  },
  {
   "cell_type": "code",
   "execution_count": null,
   "id": "6ba1b323",
   "metadata": {},
   "outputs": [],
   "source": []
  }
 ],
 "metadata": {
  "kernelspec": {
   "display_name": "wtf",
   "language": "python",
   "name": "wtf"
  },
  "language_info": {
   "codemirror_mode": {
    "name": "ipython",
    "version": 3
   },
   "file_extension": ".py",
   "mimetype": "text/x-python",
   "name": "python",
   "nbconvert_exporter": "python",
   "pygments_lexer": "ipython3",
   "version": "3.9.13"
  }
 },
 "nbformat": 4,
 "nbformat_minor": 5
}
